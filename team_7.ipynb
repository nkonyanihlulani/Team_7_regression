{
 "cells": [
  {
   "cell_type": "markdown",
   "metadata": {
    "id": "Ss4jnfiRrB-U"
   },
   "source": [
    "# **1. Overview**\n",
    "This project aims to predict the average price of golden delicious apples "
   ]
  },
  {
   "cell_type": "markdown",
   "metadata": {
    "id": "WROyq2hDrdH0"
   },
   "source": [
    "## **2. IMPORT DEPENDENCIES**"
   ]
  },
  {
   "cell_type": "code",
   "execution_count": 1,
   "metadata": {
    "id": "3Kr9tEX-tDY4"
   },
   "outputs": [
    {
     "name": "stderr",
     "output_type": "stream",
     "text": [
      "Matplotlib is building the font cache; this may take a moment.\n"
     ]
    }
   ],
   "source": [
    "import pandas as pd\n",
    "import numpy as np\n",
    "import matplotlib.pyplot as plt\n",
    "import math\n",
    "import seaborn as sns"
   ]
  },
  {
   "cell_type": "markdown",
   "metadata": {
    "id": "yuL0Gl8dtlkh"
   },
   "source": [
    "## **3. LOAD DATASET**\n",
    "\n",
    "\n"
   ]
  },
  {
   "cell_type": "code",
   "execution_count": 29,
   "metadata": {
    "colab": {
     "base_uri": "https://localhost:8080/"
    },
    "id": "xgxDqbylmEyX",
    "outputId": "b6c41185-ec10-4b4e-ef75-053e47ab35f7",
    "scrolled": false
   },
   "outputs": [],
   "source": [
    "train=pd.read_csv('data/df - train_set.csv')\n",
    "test=pd.read_csv('data/df - test_set.csv')"
   ]
  },
  {
   "cell_type": "markdown",
   "metadata": {
    "id": "0sdfUdWXt0SR"
   },
   "source": [
    "## **4. DATA CLEANING**\n",
    "\n"
   ]
  },
  {
   "cell_type": "markdown",
   "metadata": {},
   "source": [
    "### **4.1. SUMMARY OF DATAFRAME**\n",
    "We obtained the column names and their data types"
   ]
  },
  {
   "cell_type": "code",
   "execution_count": 28,
   "metadata": {},
   "outputs": [
    {
     "name": "stdout",
     "output_type": "stream",
     "text": [
      "<class 'pandas.core.frame.DataFrame'>\n",
      "Int64Index: 64368 entries, 0 to 64375\n",
      "Data columns (total 13 columns):\n",
      " #   Column            Non-Null Count  Dtype  \n",
      "---  ------            --------------  -----  \n",
      " 0   Province          64368 non-null  object \n",
      " 1   Container         64368 non-null  object \n",
      " 2   Size_Grade        64368 non-null  object \n",
      " 3   Weight_Kg         64368 non-null  float64\n",
      " 4   Commodities       64368 non-null  object \n",
      " 5   Date              64368 non-null  object \n",
      " 6   Low_Price         64368 non-null  float64\n",
      " 7   High_Price        64368 non-null  float64\n",
      " 8   Sales_Total       64368 non-null  float64\n",
      " 9   Total_Qty_Sold    64368 non-null  int64  \n",
      " 10  Total_Kg_Sold     64368 non-null  float64\n",
      " 11  Stock_On_Hand     64368 non-null  int64  \n",
      " 12  avg_price_per_kg  64368 non-null  float64\n",
      "dtypes: float64(6), int64(2), object(5)\n",
      "memory usage: 6.9+ MB\n"
     ]
    }
   ],
   "source": [
    "train.info()"
   ]
  },
  {
   "cell_type": "markdown",
   "metadata": {},
   "source": [
    "The dataframe consists of 13 columns and 64368 observations.Furthermore it has 8 numerical columns, 4 categorical variables and 1 date column that is still in string format."
   ]
  },
  {
   "cell_type": "markdown",
   "metadata": {},
   "source": [
    "### **4.2. MISSING VALUES**\n",
    "We checked if there are any missing values in each of the rows"
   ]
  },
  {
   "cell_type": "code",
   "execution_count": 24,
   "metadata": {},
   "outputs": [
    {
     "data": {
      "text/plain": [
       "Province            0\n",
       "Container           0\n",
       "Size_Grade          0\n",
       "Weight_Kg           0\n",
       "Commodities         0\n",
       "Date                0\n",
       "Low_Price           0\n",
       "High_Price          0\n",
       "Sales_Total         0\n",
       "Total_Qty_Sold      0\n",
       "Total_Kg_Sold       0\n",
       "Stock_On_Hand       0\n",
       "avg_price_per_kg    0\n",
       "dtype: int64"
      ]
     },
     "execution_count": 24,
     "metadata": {},
     "output_type": "execute_result"
    }
   ],
   "source": [
    "train.isnull().sum()"
   ]
  },
  {
   "cell_type": "markdown",
   "metadata": {},
   "source": [
    "The columns appear not to have any missing values"
   ]
  },
  {
   "cell_type": "markdown",
   "metadata": {},
   "source": [
    "### **4.2 DATA ANOMALIES** \n",
    "We examined the data further and found that our response avg_price_per_kg column contained infinite and negative infinite values. We identified the relevant indices."
   ]
  },
  {
   "cell_type": "code",
   "execution_count": 25,
   "metadata": {
    "id": "Xr1IpofBxNws"
   },
   "outputs": [
    {
     "data": {
      "text/plain": [
       "Int64Index([1020, 9229, 21118, 25585, 39119, 40637, 46425, 60891], dtype='int64')"
      ]
     },
     "execution_count": 25,
     "metadata": {},
     "output_type": "execute_result"
    }
   ],
   "source": [
    "index_series=train[(train['avg_price_per_kg'] == math.inf) | (train['avg_price_per_kg'] == -math.inf)].index\n",
    "index_series\n"
   ]
  },
  {
   "cell_type": "markdown",
   "metadata": {},
   "source": [
    "8 values out of a sample of over 60000 met our condition so we decided to discard them. With such a large sample it is safe to assume that the impact of removing a handful of observations is negligible"
   ]
  },
  {
   "cell_type": "code",
   "execution_count": 30,
   "metadata": {},
   "outputs": [],
   "source": [
    "train.drop(index_series,inplace=True)"
   ]
  },
  {
   "cell_type": "markdown",
   "metadata": {
    "id": "QIfymU7hwMvA"
   },
   "source": [
    "## **5. EXPLORATORY DATA ANALYSIS**\n",
    "\n"
   ]
  },
  {
   "cell_type": "markdown",
   "metadata": {
    "id": "aoP5HiAkw0u5"
   },
   "source": [
    "\n"
   ]
  },
  {
   "cell_type": "code",
   "execution_count": null,
   "metadata": {
    "id": "4qMZO-ZxxQXo"
   },
   "outputs": [],
   "source": [
    "\n"
   ]
  },
  {
   "cell_type": "markdown",
   "metadata": {
    "id": "n-SawvOW6OQi"
   },
   "source": [
    "## **6. FEATURE SELECTION**"
   ]
  },
  {
   "cell_type": "code",
   "execution_count": null,
   "metadata": {
    "id": "F7-nhyMCH2Fn"
   },
   "outputs": [],
   "source": []
  },
  {
   "cell_type": "markdown",
   "metadata": {
    "id": "GGWI68qE4HJw"
   },
   "source": [
    "## **7. FEATURE ENGINEERING**"
   ]
  },
  {
   "cell_type": "code",
   "execution_count": null,
   "metadata": {
    "id": "H_fpf7eDH3HO"
   },
   "outputs": [],
   "source": []
  },
  {
   "cell_type": "markdown",
   "metadata": {
    "id": "OdZxACroxSAe"
   },
   "source": [
    "### **7.1. ENCODING CATEGORICAL FEATURES**"
   ]
  },
  {
   "cell_type": "code",
   "execution_count": null,
   "metadata": {
    "id": "-CpeVORbH3-t"
   },
   "outputs": [],
   "source": []
  },
  {
   "cell_type": "markdown",
   "metadata": {
    "id": "gnh6cQYnxyDU"
   },
   "source": [
    "### **7.1.1. BINARY FEATURES**"
   ]
  },
  {
   "cell_type": "code",
   "execution_count": null,
   "metadata": {
    "id": "DXIQOkf2yLSx"
   },
   "outputs": [],
   "source": []
  },
  {
   "cell_type": "markdown",
   "metadata": {
    "id": "ZvrznFN-yNvd"
   },
   "source": [
    "### **7.1.2 ORDINAL FEATURES**"
   ]
  },
  {
   "cell_type": "code",
   "execution_count": null,
   "metadata": {
    "id": "oUkpcMitykVv"
   },
   "outputs": [],
   "source": []
  },
  {
   "cell_type": "markdown",
   "metadata": {
    "id": "8VdhgK6zynSA"
   },
   "source": [
    "### **7.1.3. MULTI-CATEGORICAL FEATURES**"
   ]
  },
  {
   "cell_type": "code",
   "execution_count": null,
   "metadata": {
    "id": "ueeC27pozbTh"
   },
   "outputs": [],
   "source": []
  },
  {
   "cell_type": "markdown",
   "metadata": {
    "id": "gXDZxuBNzIDf"
   },
   "source": [
    "### **7.2. SPLITTING DATA**"
   ]
  },
  {
   "cell_type": "code",
   "execution_count": null,
   "metadata": {
    "id": "YF2s_RgY0Bjv"
   },
   "outputs": [],
   "source": []
  },
  {
   "cell_type": "markdown",
   "metadata": {
    "id": "Jn2J5y_O0CSj"
   },
   "source": [
    "### **7.3. FEATURE SCALING**"
   ]
  },
  {
   "cell_type": "code",
   "execution_count": null,
   "metadata": {
    "id": "inSGPbSuu9Iz"
   },
   "outputs": [],
   "source": []
  },
  {
   "cell_type": "code",
   "execution_count": null,
   "metadata": {
    "id": "z7N86nxx09_E"
   },
   "outputs": [],
   "source": []
  },
  {
   "cell_type": "markdown",
   "metadata": {
    "id": "Y2OGDxF95R61"
   },
   "source": [
    "## **8. FITTING MODELS**"
   ]
  },
  {
   "cell_type": "code",
   "execution_count": null,
   "metadata": {
    "id": "17-SyL3Q5nRJ"
   },
   "outputs": [],
   "source": []
  }
 ],
 "metadata": {
  "colab": {
   "collapsed_sections": [],
   "name": "team7.ipynb",
   "provenance": []
  },
  "kernelspec": {
   "display_name": "Python 3",
   "language": "python",
   "name": "python3"
  },
  "language_info": {
   "codemirror_mode": {
    "name": "ipython",
    "version": 3
   },
   "file_extension": ".py",
   "mimetype": "text/x-python",
   "name": "python",
   "nbconvert_exporter": "python",
   "pygments_lexer": "ipython3",
   "version": "3.8.5"
  }
 },
 "nbformat": 4,
 "nbformat_minor": 1
}
