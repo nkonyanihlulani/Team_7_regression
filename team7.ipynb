{
  "nbformat": 4,
  "nbformat_minor": 0,
  "metadata": {
    "colab": {
      "name": "team7.ipynb",
      "provenance": [],
      "collapsed_sections": []
    },
    "kernelspec": {
      "name": "python3",
      "display_name": "Python 3"
    },
    "language_info": {
      "name": "python"
    }
  },
  "cells": [
    {
      "cell_type": "markdown",
      "metadata": {
        "id": "Ss4jnfiRrB-U"
      },
      "source": [
        "# **Overview**"
      ]
    },
    {
      "cell_type": "markdown",
      "metadata": {
        "id": "WROyq2hDrdH0"
      },
      "source": [
        "## **2.IMPORT DEPENDENCIES**"
      ]
    },
    {
      "cell_type": "code",
      "metadata": {
        "id": "3Kr9tEX-tDY4"
      },
      "source": [
        "import pandas as pd\n",
        "import numpy as np\n",
        "import matplotlib.pyplot as plt\n",
        "import math\n",
        "import seaborn as sns"
      ],
      "execution_count": null,
      "outputs": []
    },
    {
      "cell_type": "markdown",
      "metadata": {
        "id": "yuL0Gl8dtlkh"
      },
      "source": [
        "## **3. LOAD DATASET**\n",
        "\n",
        "\n"
      ]
    },
    {
      "cell_type": "code",
      "metadata": {
        "colab": {
          "base_uri": "https://localhost:8080/"
        },
        "id": "xgxDqbylmEyX",
        "outputId": "b6c41185-ec10-4b4e-ef75-053e47ab35f7"
      },
      "source": [
        "df=pd.read_csv('df - train_set.csv')\n",
        "df.info()\n"
      ],
      "execution_count": null,
      "outputs": [
        {
          "output_type": "stream",
          "text": [
            "<class 'pandas.core.frame.DataFrame'>\n",
            "RangeIndex: 64376 entries, 0 to 64375\n",
            "Data columns (total 13 columns):\n",
            " #   Column            Non-Null Count  Dtype  \n",
            "---  ------            --------------  -----  \n",
            " 0   Province          64376 non-null  object \n",
            " 1   Container         64376 non-null  object \n",
            " 2   Size_Grade        64376 non-null  object \n",
            " 3   Weight_Kg         64376 non-null  float64\n",
            " 4   Commodities       64376 non-null  object \n",
            " 5   Date              64376 non-null  object \n",
            " 6   Low_Price         64376 non-null  float64\n",
            " 7   High_Price        64376 non-null  float64\n",
            " 8   Sales_Total       64376 non-null  float64\n",
            " 9   Total_Qty_Sold    64376 non-null  int64  \n",
            " 10  Total_Kg_Sold     64376 non-null  float64\n",
            " 11  Stock_On_Hand     64376 non-null  int64  \n",
            " 12  avg_price_per_kg  64376 non-null  float64\n",
            "dtypes: float64(6), int64(2), object(5)\n",
            "memory usage: 6.4+ MB\n"
          ],
          "name": "stdout"
        }
      ]
    },
    {
      "cell_type": "markdown",
      "metadata": {
        "id": "0sdfUdWXt0SR"
      },
      "source": [
        "## **4. EXPLORATORY DATA ANALYSIS**\n",
        "\n"
      ]
    },
    {
      "cell_type": "code",
      "metadata": {
        "id": "Xr1IpofBxNws"
      },
      "source": [
        "#The response column contains infinite and negative infinite so we must remove them\n",
        "index1=df[df['avg_price_per_kg'] == math.inf].index\n",
        "index2=df[df['avg_price_per_kg'] == -math.inf].index\n",
        "\n",
        "index3=index1.append(index2)\n",
        "df.drop(index3 , inplace=True)\n",
        "plt.scatter(df.Weight_Kg,df.avg_price_per_kg)"
      ],
      "execution_count": null,
      "outputs": []
    },
    {
      "cell_type": "markdown",
      "metadata": {
        "id": "QIfymU7hwMvA"
      },
      "source": [
        "## **5. DATA CLEANING**\n",
        "\n"
      ]
    },
    {
      "cell_type": "markdown",
      "metadata": {
        "id": "aoP5HiAkw0u5"
      },
      "source": [
        "### **5.1. MISSING VALUES**\n"
      ]
    },
    {
      "cell_type": "code",
      "metadata": {
        "id": "4qMZO-ZxxQXo"
      },
      "source": [
        "\n"
      ],
      "execution_count": null,
      "outputs": []
    },
    {
      "cell_type": "markdown",
      "metadata": {
        "id": "n-SawvOW6OQi"
      },
      "source": [
        "## **6. FEATURE SELECTION**"
      ]
    },
    {
      "cell_type": "code",
      "metadata": {
        "id": "F7-nhyMCH2Fn"
      },
      "source": [
        ""
      ],
      "execution_count": null,
      "outputs": []
    },
    {
      "cell_type": "markdown",
      "metadata": {
        "id": "GGWI68qE4HJw"
      },
      "source": [
        "## **7. FEATURE ENGINEERING**"
      ]
    },
    {
      "cell_type": "code",
      "metadata": {
        "id": "H_fpf7eDH3HO"
      },
      "source": [
        ""
      ],
      "execution_count": null,
      "outputs": []
    },
    {
      "cell_type": "markdown",
      "metadata": {
        "id": "OdZxACroxSAe"
      },
      "source": [
        "### **7.1. ENCODING CATEGORICAL FEATURES**"
      ]
    },
    {
      "cell_type": "code",
      "metadata": {
        "id": "-CpeVORbH3-t"
      },
      "source": [
        ""
      ],
      "execution_count": null,
      "outputs": []
    },
    {
      "cell_type": "markdown",
      "metadata": {
        "id": "gnh6cQYnxyDU"
      },
      "source": [
        "### **7.1.1. BINARY FEATURES**"
      ]
    },
    {
      "cell_type": "code",
      "metadata": {
        "id": "DXIQOkf2yLSx"
      },
      "source": [
        ""
      ],
      "execution_count": null,
      "outputs": []
    },
    {
      "cell_type": "markdown",
      "metadata": {
        "id": "ZvrznFN-yNvd"
      },
      "source": [
        "### **7.1.2 ORDINAL FEATURES**"
      ]
    },
    {
      "cell_type": "code",
      "metadata": {
        "id": "oUkpcMitykVv"
      },
      "source": [
        ""
      ],
      "execution_count": null,
      "outputs": []
    },
    {
      "cell_type": "markdown",
      "metadata": {
        "id": "8VdhgK6zynSA"
      },
      "source": [
        "### **7.1.3. MULTI-CATEGORICAL FEATURES**"
      ]
    },
    {
      "cell_type": "code",
      "metadata": {
        "id": "ueeC27pozbTh"
      },
      "source": [
        ""
      ],
      "execution_count": null,
      "outputs": []
    },
    {
      "cell_type": "markdown",
      "metadata": {
        "id": "gXDZxuBNzIDf"
      },
      "source": [
        "### **7.2. SPLITTING DATA**"
      ]
    },
    {
      "cell_type": "code",
      "metadata": {
        "id": "YF2s_RgY0Bjv"
      },
      "source": [
        ""
      ],
      "execution_count": null,
      "outputs": []
    },
    {
      "cell_type": "markdown",
      "metadata": {
        "id": "Jn2J5y_O0CSj"
      },
      "source": [
        "### **7.3. FEATURE SCALING**"
      ]
    },
    {
      "cell_type": "code",
      "metadata": {
        "id": "inSGPbSuu9Iz"
      },
      "source": [
        ""
      ],
      "execution_count": null,
      "outputs": []
    },
    {
      "cell_type": "code",
      "metadata": {
        "id": "z7N86nxx09_E"
      },
      "source": [
        ""
      ],
      "execution_count": null,
      "outputs": []
    },
    {
      "cell_type": "markdown",
      "metadata": {
        "id": "Y2OGDxF95R61"
      },
      "source": [
        "## **8. FITTING MODELS**"
      ]
    },
    {
      "cell_type": "code",
      "metadata": {
        "id": "17-SyL3Q5nRJ"
      },
      "source": [
        ""
      ],
      "execution_count": null,
      "outputs": []
    }
  ]
}